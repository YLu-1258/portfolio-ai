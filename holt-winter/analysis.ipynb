{
 "cells": [
  {
   "cell_type": "code",
   "execution_count": null,
   "id": "f088e7c1",
   "metadata": {},
   "outputs": [],
   "source": [
    "def load_open_data(csv_file : str):\n",
    "    with open(csv_file, 'r') as file:\n",
    "        data = file.readlines()\n",
    "        data = [line.strip().split(',') for line in data]\n",
    "        data = [line[1] for line in data]\n",
    "    return data"
   ]
  },
  {
   "cell_type": "code",
   "execution_count": null,
   "id": "1779067d",
   "metadata": {},
   "outputs": [],
   "source": [
    "cost_open_data = load_open_data(')"
   ]
  }
 ],
 "metadata": {
  "language_info": {
   "name": "python"
  }
 },
 "nbformat": 4,
 "nbformat_minor": 5
}
